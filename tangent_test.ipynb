{
 "cells": [
  {
   "cell_type": "code",
   "execution_count": 1,
   "metadata": {
    "collapsed": true
   },
   "outputs": [],
   "source": [
    "import tangent\n",
    "import tensorflow as tf"
   ]
  },
  {
   "cell_type": "code",
   "execution_count": 2,
   "metadata": {
    "collapsed": true
   },
   "outputs": [],
   "source": [
    "def f(W,x):\n",
    "    h1 = tf.matmul(x,W)\n",
    "    h2 = tf.tanh(h1)\n",
    "    out = tf.reduce_sum(h2)\n",
    "    return out"
   ]
  },
  {
   "cell_type": "code",
   "execution_count": 3,
   "metadata": {},
   "outputs": [
    {
     "name": "stdout",
     "output_type": "stream",
     "text": [
      "def dfdW(W, x, bout=1.0):\n",
      "    h1 = tf.matmul(x, W)\n",
      "    h2 = tf.tanh(h1)\n",
      "\n",
      "    # Grad of: out = tf.reduce_sum(h2)\n",
      "    _bh2 = tangent.unreduce(bout, tangent.shape_as_list(h2), None, False)\n",
      "    bh2 = _bh2\n",
      "\n",
      "    # Grad of: h2 = tf.tanh(h1)\n",
      "    _h2 = h2\n",
      "    _bh1 = bh2 * (1 - _h2 * _h2)\n",
      "    bh1 = _bh1\n",
      "\n",
      "    # Grad of: h1 = tf.matmul(x, W)\n",
      "    _bW = tangent.matmul_adjoint_y(bh1, x, W, False, False)\n",
      "    bW = _bW\n",
      "    return bW\n",
      "\n"
     ]
    }
   ],
   "source": [
    "df = tangent.grad(f, verbose=1)"
   ]
  },
  {
   "cell_type": "code",
   "execution_count": null,
   "metadata": {
    "collapsed": true
   },
   "outputs": [],
   "source": []
  }
 ],
 "metadata": {
  "kernelspec": {
   "display_name": "Python [conda env:tangent]",
   "language": "python",
   "name": "conda-env-tangent-py"
  },
  "language_info": {
   "codemirror_mode": {
    "name": "ipython",
    "version": 3
   },
   "file_extension": ".py",
   "mimetype": "text/x-python",
   "name": "python",
   "nbconvert_exporter": "python",
   "pygments_lexer": "ipython3",
   "version": "3.6.3"
  }
 },
 "nbformat": 4,
 "nbformat_minor": 2
}
